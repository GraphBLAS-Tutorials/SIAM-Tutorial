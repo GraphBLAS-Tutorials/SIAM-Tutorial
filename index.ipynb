{
 "cells": [
  {
   "cell_type": "markdown",
   "metadata": {
    "slideshow": {
     "slide_type": "slide"
    }
   },
   "source": [
    "# Introduction to GraphBLAS with Python\n",
    "\n",
    "The GraphBLAS is an API for [sparse matrix](https://en.wikipedia.org/wiki/Sparse_matrix) and vector operations to solve graph problems using [Linear Algebra](https://en.wikipedia.org/wiki/Linear_algebra).  pygraphblas wraps the GraphBLAS API using [CFFI](https://cffi.readthedocs.io/en/latest/).  This notebook is an introduction to the GraphBLAS and also tutorial on how work with graphs in Python using the pygraphblas library.\n",
    "\n",
    "For an mathematical introduction see [Mathematical Foundations of the GraphBLAS](https://people.eecs.berkeley.edu/~aydin/GraphBLAS-Math.pdf).\n",
    "\n",
    "There are several examples of common algorithms implemented with pygraphblas [NOT AVAILABLE IN BINDER]:\n",
    "\n",
    " - [PageRank](./PageRank.ipynb)\n",
    " - [Betweeness Centrality](./BetweenessCentrality.ipynb)\n",
    " - [K-Truss Subgraphs](./K-Truss.ipynb)\n",
    " - [Triangle Counting](./Triangle-Counting.ipynb)\n",
    " - [RadiX-Net Topologies](./RadiX-Net-with-pygraphblas.ipynb)\n",
    " - [User Defined Types](./User-Defined-Types.ipynb)\n",
    " - [Log Semiring](./Log-Semiring.ipynb)\n",
    "\n",
    "The follow is a brief introduction to some of pygraphblas' features.  Over time the goal will be to improve the documentation and examples.  For any suggestions, please [open an issue](https://github.com/michelp/pygraphblas/issues) so we can discuss it.\n",
    "\n",
    "## Matrices can represent Graphs\n",
    "\n",
    "The key concept of the GraphBLAS is that [a matrix can represent a graph](https://en.wikipedia.org/wiki/Adjacency_matrix) and [Linear Algebra](https://en.wikipedia.org/wiki/Linear_algebra) can be used to operate on graph matrices.  In the conventional sense, a graph is a set of nodes that have edges connecting them.  The same connectivity can be represented as a matrix where edges are weight value at the intersection of rows and columns.  The rows represent the outgoing node, and the column represents the incoming node.\n",
    "\n",
    "By relying on the mathmatical foundations of graph theory and abstract algebra, graph problems can be expressed in a closed, composible algebraic language. Instead of thinking of problems node and edge at a time, GraphBLAS encourages you to think of and operate on the graph as a whole object using well understood mathmatical techniques.\n",
    "\n",
    "For expedience we'll import the entire pygraphblas library into this notebook with `import *`.  This is normally not a recommended practice.  This won't effect the examples here but keep it in mind."
   ]
  },
  {
   "cell_type": "code",
   "execution_count": null,
   "metadata": {
    "slideshow": {
     "slide_type": "subslide"
    }
   },
   "outputs": [],
   "source": [
    "from pygraphblas import *\n",
    "from pygraphblas.demo.gviz import draw, draw_op"
   ]
  },
  {
   "cell_type": "markdown",
   "metadata": {
    "slideshow": {
     "slide_type": "slide"
    }
   },
   "source": [
    "Matrices can be created several different ways, for example literal lists of data can be used to construct them, as shown here from three lists, a list of outgoing nodes, a list of incoming nodes, and a list of weights.  The first two lists must be integers, and pygraphblas automatically makes a matrix of the correct type based on the type of the values in the third list, in this case, integers as well:"
   ]
  },
  {
   "cell_type": "code",
   "execution_count": null,
   "metadata": {
    "scrolled": false,
    "slideshow": {
     "slide_type": "subslide"
    }
   },
   "outputs": [],
   "source": [
    "A = Matrix.from_lists(\n",
    "    [0, 0, 1, 3, 3, 4, 1, 5],\n",
    "    [1, 3, 2, 4, 5, 2, 5, 4],\n",
    "    [9, 3, 8, 6, 1, 4, 7, 2],)\n",
    "\n",
    "draw(A)"
   ]
  },
  {
   "cell_type": "markdown",
   "metadata": {},
   "source": [
    "## Adding Matrices (Union)\n",
    "\n",
    "Adding two matrices with the plus ('+') or OR ('|') operator causes the two graphs to be combined together in a union of their shapes. When the same element (edge) appears in both matrices, the combining operator is used to compute the resulting value.  The default operator is `graphblas.plus` which adds the two values, but there are many binary operators in GraphBLAS that can be used."
   ]
  },
  {
   "cell_type": "code",
   "execution_count": null,
   "metadata": {
    "scrolled": false
   },
   "outputs": [],
   "source": [
    "B = Matrix.from_lists(\n",
    "    [0, 0, 1, 3, 3, 4, 1, 5],\n",
    "    [2, 3, 3, 2, 5, 4, 5, 4],\n",
    "    [9, 3, 8, 6, 2, 4, 5, 2],)\n",
    "\n",
    "C = A | B\n",
    "draw_op(A, 'OR', B, C)"
   ]
  },
  {
   "cell_type": "markdown",
   "metadata": {},
   "source": [
    "## Using a different operator\n",
    "\n",
    "To specify a different combining operator with element-wise addition, you can use the `with` syntax, inside this with block the specified operator is used."
   ]
  },
  {
   "cell_type": "code",
   "execution_count": null,
   "metadata": {},
   "outputs": [],
   "source": [
    "with binaryop.MIN:\n",
    "    C = A | B\n",
    "draw_op(A, 'OR', B, C)"
   ]
  },
  {
   "cell_type": "markdown",
   "metadata": {},
   "source": [
    "## Element-wise Multiplication, Intersection\n",
    "\n",
    "Multiplying two matrices with the AND operator (`&`) does element-wise multiplication, which returns only the intersection of common edges in the two graphs.  Note how this contrasts with element-wise addition above which takes the union.  Only the edges in common between the two graphs are operated on.  The default operator is `graphblas.times` which multiples their values."
   ]
  },
  {
   "cell_type": "code",
   "execution_count": null,
   "metadata": {
    "scrolled": false
   },
   "outputs": [],
   "source": [
    "C = A & B\n",
    "draw_op(A, 'AND', B, C)"
   ]
  },
  {
   "cell_type": "markdown",
   "metadata": {},
   "source": [
    "## Element-wise Multiplication using different operators\n",
    "\n",
    "Like addition, element-wise multiplication can use different operators using `with` syntax."
   ]
  },
  {
   "cell_type": "code",
   "execution_count": null,
   "metadata": {
    "scrolled": false
   },
   "outputs": [],
   "source": [
    "with binaryop.MIN:\n",
    "    C = A & B\n",
    "\n",
    "draw_op(A, 'AND', B, C)"
   ]
  },
  {
   "cell_type": "markdown",
   "metadata": {},
   "source": [
    "## Matrix Vector multiplication\n",
    "\n",
    "Matrices can be multiplied on the right by vectors, this is similar to taking a step \"backwards\" in a Breadth First Search from nodes specified in the right operand.  The type of the output is the same as the left operand."
   ]
  },
  {
   "cell_type": "code",
   "execution_count": null,
   "metadata": {
    "scrolled": false
   },
   "outputs": [],
   "source": [
    "v = Vector.from_lists([4],[True], A.nrows)\n",
    "\n",
    "draw_op(A, '@', v, A @ v)"
   ]
  },
  {
   "cell_type": "markdown",
   "metadata": {},
   "source": [
    "In order to search forward through a graph doing matrix vector multiplication, then use the transpose of the input matrix:"
   ]
  },
  {
   "cell_type": "code",
   "execution_count": null,
   "metadata": {},
   "outputs": [],
   "source": [
    "draw_op(A.transpose(), '@', v, A.transpose() @ v)"
   ]
  },
  {
   "cell_type": "markdown",
   "metadata": {},
   "source": [
    "## Vector Matrix Multiplication\n",
    "\n",
    "A Vector can be multiplied on the left by a matrix.  This is a fundamental \"step\" in a Breadth First Search (BFS) across the graph, the result are the adjacent edges to the input.  This is mathematically identical to the operation `A.tranpose() @ v` shown above.  Note that the type of the result is that same as the left operand, in this case boolean:"
   ]
  },
  {
   "cell_type": "code",
   "execution_count": null,
   "metadata": {},
   "outputs": [],
   "source": [
    "v = Vector.from_lists([3],[True], A.nrows)\n",
    "\n",
    "y = v @ A\n",
    "draw_op(v, '@', A, y)"
   ]
  },
  {
   "cell_type": "markdown",
   "metadata": {},
   "source": [
    "## Row vs Column Vector Matrix Multiplication\n",
    "\n",
    "`Av == vA'` so which direction to go depends on your style and problem.  But it's good to keep in mind these equivalents:"
   ]
  },
  {
   "cell_type": "code",
   "execution_count": null,
   "metadata": {
    "scrolled": true
   },
   "outputs": [],
   "source": [
    "(A @ v == v @ A.transpose()).reduce_bool() and (v @ A == A.transpose() @ v).reduce_bool()"
   ]
  },
  {
   "cell_type": "markdown",
   "metadata": {},
   "source": [
    "## Matrix Multiplication\n",
    "\n",
    "The matrix multiplication operator (`@`) is also used to multiply two matrices.  The common data pattern is multiplying the rows of the left operand by the columns of the right operand and then summing the results.  In the results below the `A` matrix will be multiplied by itself.  This squaring of an adjacency matrix is often used to find the [Friend of a Friend](https://en.wikipedia.org/wiki/Friend_of_a_friend) graph, where the result's edges join nodes to nodes two steps away:"
   ]
  },
  {
   "cell_type": "code",
   "execution_count": null,
   "metadata": {
    "scrolled": false
   },
   "outputs": [],
   "source": [
    "draw_op(A, '@', A, A @ A)"
   ]
  },
  {
   "cell_type": "markdown",
   "metadata": {},
   "source": [
    "## Semirings\n",
    "\n",
    "A different [Semiring](https://en.wikipedia.org/wiki/Semiring) can be used during matrix multiplication to get different results. A semiring defines two binary operators that are substituted for the multiplication \"inner\" matrix multiply operation and the addition \"outer\" operation.  In the next example uses the `min_plus` semiring."
   ]
  },
  {
   "cell_type": "code",
   "execution_count": null,
   "metadata": {},
   "outputs": [],
   "source": [
    "with semiring.MIN_PLUS:\n",
    "    g = draw_op(A, '@', A, A @ A)\n",
    "g"
   ]
  },
  {
   "cell_type": "markdown",
   "metadata": {},
   "source": [
    "## Transpose\n",
    "\n",
    "A matrix can be transposed with the `transpose()` method.  This effectively reverses the direction of edges in a graph."
   ]
  },
  {
   "cell_type": "code",
   "execution_count": null,
   "metadata": {},
   "outputs": [],
   "source": [
    "draw(A.transpose())"
   ]
  },
  {
   "cell_type": "markdown",
   "metadata": {},
   "source": [
    "## Symmetric Graphs\n",
    "\n",
    "Adding a graph to it's transpose makes its symmetric, every edge has a corresponding reverse edge."
   ]
  },
  {
   "cell_type": "code",
   "execution_count": null,
   "metadata": {},
   "outputs": [],
   "source": [
    "draw_op(A, '+', A.transpose(), A + A.transpose())"
   ]
  },
  {
   "cell_type": "markdown",
   "metadata": {},
   "source": [
    "## Random Graphs\n",
    "\n",
    "Random graphs can be constructed with the `random` Matrix class method."
   ]
  },
  {
   "cell_type": "code",
   "execution_count": null,
   "metadata": {
    "scrolled": true
   },
   "outputs": [],
   "source": [
    "draw(Matrix.random(UINT8, 6,6,10, no_diagonal=True, seed=42), show_weight=True)"
   ]
  },
  {
   "cell_type": "markdown",
   "metadata": {},
   "source": [
    "## Breadth First Search\n",
    "\n",
    "Matrix multiplication is the basic operation for taking a step across a graph.  This single movement can be combined with a loop to step across an entire graph, tracking the distance from a beginning node to every other node in the graph.  This is called a *Breadth First Search*."
   ]
  },
  {
   "cell_type": "code",
   "execution_count": null,
   "metadata": {
    "scrolled": true
   },
   "outputs": [],
   "source": [
    "def bfs(matrix, start):\n",
    "    \"\"\"Given a graph and a starting position, return a vector of hops to all other nodes.\"\"\"\n",
    "    v = Vector.sparse(UINT8, matrix.nrows)   # the result vector\n",
    "    q = Vector.sparse(BOOL, matrix.nrows)    # a vector to keep track of known nodes\n",
    "    \n",
    "    q[start] = True\n",
    "    not_done = True\n",
    "    level = 1\n",
    "    \n",
    "    while not_done and level <= matrix.nrows:\n",
    "        v[:,q] = level                          # Assign the current level to known (q) nodes in v\n",
    "        q = v.vxm(matrix, mask=v, \n",
    "                  desc=descriptor.ooco)         # compliment the mask only find the next unknown nodes\n",
    "        not_done = q.reduce_bool()              # is q full?\n",
    "        level += 1                              # increment level\n",
    "    return v\n",
    "    \n",
    "draw(A, show_weight=False, label_vector=bfs(A, 0))"
   ]
  },
  {
   "cell_type": "markdown",
   "metadata": {},
   "source": [
    "## Shortest Path Length\n",
    "\n",
    "Using the `min_plus` semiring a similar approach can be used to find the shortest path length between two nodes.  Note how instead of a mask/reduce operation, an equality comparison `iseq` is used to determine if a vector changes from one operation to the next.\n",
    "\n",
    "This simple algorithm only returns the shortest path length.  Often it's helpful to also compute the actual path and count the number of hops as well.  This is demonstrated in the [User Defined Types](./User-Defined-Types.ipynb) notebook."
   ]
  },
  {
   "cell_type": "code",
   "execution_count": null,
   "metadata": {},
   "outputs": [],
   "source": [
    "def shortest_path_length(matrix, start):\n",
    "    v = Vector.sparse(matrix.type, matrix.nrows)\n",
    "    v[start] = 0\n",
    "\n",
    "    with semiring.MIN_PLUS, Accum(binaryop.MIN):\n",
    "        for _ in range(matrix.nrows):\n",
    "            w = Vector.dup(v)\n",
    "            v @= matrix\n",
    "            if w.iseq(v):\n",
    "                break\n",
    "        return v\n",
    "\n",
    "draw(A, label_vector=shortest_path_length(A, 0))"
   ]
  },
  {
   "cell_type": "code",
   "execution_count": null,
   "metadata": {},
   "outputs": [],
   "source": []
  }
 ],
 "metadata": {
  "celltoolbar": "Slideshow",
  "kernelspec": {
   "display_name": "Python 3",
   "language": "python",
   "name": "python3"
  },
  "language_info": {
   "codemirror_mode": {
    "name": "ipython",
    "version": 3
   },
   "file_extension": ".py",
   "mimetype": "text/x-python",
   "name": "python",
   "nbconvert_exporter": "python",
   "pygments_lexer": "ipython3",
   "version": "3.7.8"
  }
 },
 "nbformat": 4,
 "nbformat_minor": 2
}
