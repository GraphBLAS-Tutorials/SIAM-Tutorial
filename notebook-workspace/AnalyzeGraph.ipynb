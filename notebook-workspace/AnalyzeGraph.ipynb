{
 "cells": [
  {
   "cell_type": "markdown",
   "metadata": {},
   "source": [
    "### Exercise 1: aka AnalyzeGraph"
   ]
  },
  {
   "cell_type": "code",
   "execution_count": 1,
   "metadata": {},
   "outputs": [],
   "source": [
    "import time\n",
    "import pygraphblas as grb\n",
    "import algorithms\n",
    "from pygraphblas.gviz import draw, draw_graph_op as draw_op\n",
    "from pygraphblas.gviz import draw_cy"
   ]
  },
  {
   "cell_type": "markdown",
   "metadata": {},
   "source": [
    "#### Step 1: load a graph from a matrix market file\n",
    "\n",
    "Nodes are authors of papers and abstracts published at IEEE HPEC through 2019.\n",
    "Edges connect coauthors of papers."
   ]
  },
  {
   "cell_type": "code",
   "execution_count": 2,
   "metadata": {},
   "outputs": [
    {
     "name": "stdout",
     "output_type": "stream",
     "text": [
      "*** Step 1: Elapsed time: 0.035506486892700195 sec.\n"
     ]
    }
   ],
   "source": [
    "pathname = './Data/hpec_coauthors.mtx'\n",
    "\n",
    "with open(pathname, 'r') as f:\n",
    "    t0 = time.time()\n",
    "    M = grb.Matrix.from_mm(f, grb.UINT64)\n",
    "    t1 = time.time()\n",
    "    print(\"*** Step 1: Elapsed time: %s sec.\" % (t1 - t0))"
   ]
  },
  {
   "cell_type": "markdown",
   "metadata": {},
   "source": [
    "#### Step 2: compute some basic statistics on the graph"
   ]
  },
  {
   "cell_type": "code",
   "execution_count": 3,
   "metadata": {},
   "outputs": [
    {
     "name": "stdout",
     "output_type": "stream",
     "text": [
      "*** Step 2: elapsed time: 0.0018761157989501953 sec.\n",
      "Num nodes:  1747\n",
      "Num edges:  10072\n",
      "Avg degree: 5.76531196336577\n",
      "Max degree: 461\n",
      "Min degree: 1\n",
      "Node with max degree: 800\n"
     ]
    }
   ],
   "source": [
    "t0 = time.time()\n",
    "num_rows = M.nrows\n",
    "num_cols = M.ncols\n",
    "num_vals = M.nvals\n",
    "\n",
    "degree = M.reduce_vector(grb.UINT64.PLUS_MONOID)\n",
    "\n",
    "max_degree = degree.reduce_int(grb.UINT64.MAX_MONOID)\n",
    "min_degree = degree.reduce_int(grb.UINT64.MIN_MONOID)\n",
    "t1 = time.time()\n",
    "\n",
    "print(\"*** Step 2: elapsed time: %s sec.\" % (t1 - t0))\n",
    "\n",
    "print(\"Num nodes: \", num_rows)\n",
    "print(\"Num edges: \", num_vals)\n",
    "print(\"Avg degree:\", float(num_vals)/float(num_rows))\n",
    "print(\"Max degree:\", max_degree)\n",
    "print(\"Min degree:\", min_degree)\n",
    "\n",
    "target_ID = 0\n",
    "for ix in range(num_rows):\n",
    "    if degree.get(ix) == max_degree:\n",
    "        target_ID = ix\n",
    "        print(\"Node with max degree:\", ix)"
   ]
  },
  {
   "cell_type": "markdown",
   "metadata": {},
   "source": [
    "#### Step 3: Extract the three hop neighborhood around the node with highest degree\n",
    "\n",
    "Signature:\n",
    "\n",
    "`neighbors = algorithms.neighborhood(graph, src, num_hops)`\n",
    "\n",
    "- `graph`: grb.Matrix representing a graph\n",
    "- `src`: index of the node to start with\n",
    "- `num_hops`: number of hops to traverse\n",
    "- `neighbors`: grb.Vector with True marking all vertices reached in `num_hops`."
   ]
  },
  {
   "cell_type": "code",
   "execution_count": 4,
   "metadata": {},
   "outputs": [
    {
     "name": "stdout",
     "output_type": "stream",
     "text": [
      "*** Step 3: elapsed time: 0.0014147758483886719 sec.\n",
      "Node 800 2-hop neigborhood has 436 nodes\n"
     ]
    }
   ],
   "source": [
    "t0 = time.time()\n",
    "neighbors = algorithms.neighborhood(M, target_ID, 2)\n",
    "t1 = time.time()\n",
    "print(\"*** Step 3: elapsed time: %s sec.\" % (t1 - t0))\n",
    "\n",
    "#print(\"Found\", num_ccs, \"connected components\")\n",
    "#target_component_ID = components.get(target_ID)\n",
    "print(\"Node\", target_ID, \"2-hop neigborhood has\", neighbors.nvals, \"nodes\")"
   ]
  },
  {
   "cell_type": "markdown",
   "metadata": {},
   "source": [
    "#### Step 4: Extract the subgraph containing the neighborhood"
   ]
  },
  {
   "cell_type": "code",
   "execution_count": 5,
   "metadata": {},
   "outputs": [
    {
     "name": "stdout",
     "output_type": "stream",
     "text": [
      "*** Step 4: elapsed time: 0.0013189315795898438 sec.\n",
      "Number of nodes in target ID's neighborhood: 436\n",
      "Number of edges in the subgraph: 4502\n",
      "Component members: [0, 7, 9, 10, 13, 24, 31, 38, 41, 44, 48, 50, 51, 52, 55, 61, 80, 83, 84, 87, 91, 95, 96, 100, 106, 110, 111, 113, 114, 117, 120, 121, 128, 130, 136, 143, 149, 151, 153, 154, 161, 170, 175, 180, 181, 182, 192, 193, 196, 203, 204, 205, 209, 214, 221, 225, 226, 229, 236, 244, 248, 256, 259, 260, 261, 262, 269, 270, 276, 278, 281, 284, 285, 291, 295, 296, 305, 309, 312, 318, 321, 330, 348, 357, 362, 363, 371, 375, 376, 399, 411, 413, 422, 426, 429, 431, 434, 440, 443, 444, 447, 448, 453, 459, 460, 461, 463, 466, 468, 470, 471, 475, 479, 482, 486, 494, 502, 508, 516, 519, 525, 536, 538, 540, 545, 547, 548, 549, 561, 565, 567, 573, 577, 578, 586, 587, 596, 600, 610, 611, 615, 616, 618, 623, 626, 629, 631, 633, 638, 639, 642, 644, 646, 650, 655, 658, 659, 660, 664, 665, 666, 673, 675, 676, 682, 685, 686, 689, 701, 707, 711, 712, 714, 718, 732, 738, 741, 742, 745, 754, 759, 764, 769, 770, 771, 772, 775, 778, 786, 788, 789, 790, 794, 797, 798, 799, 800, 809, 811, 812, 813, 817, 826, 830, 835, 837, 843, 847, 850, 853, 863, 867, 868, 873, 876, 882, 883, 890, 893, 895, 899, 900, 901, 905, 908, 916, 943, 945, 947, 959, 960, 966, 968, 975, 983, 986, 991, 1005, 1008, 1012, 1016, 1020, 1024, 1026, 1027, 1028, 1029, 1030, 1032, 1033, 1036, 1043, 1044, 1046, 1048, 1050, 1053, 1054, 1055, 1062, 1068, 1071, 1076, 1078, 1080, 1081, 1082, 1083, 1084, 1092, 1094, 1099, 1101, 1102, 1104, 1107, 1111, 1123, 1124, 1125, 1126, 1137, 1138, 1148, 1153, 1154, 1157, 1164, 1169, 1170, 1181, 1185, 1196, 1208, 1211, 1219, 1222, 1225, 1228, 1231, 1233, 1236, 1237, 1238, 1242, 1245, 1247, 1248, 1251, 1254, 1261, 1263, 1269, 1271, 1274, 1275, 1279, 1283, 1284, 1285, 1286, 1288, 1293, 1295, 1300, 1302, 1303, 1307, 1308, 1315, 1324, 1325, 1328, 1330, 1331, 1335, 1337, 1345, 1349, 1351, 1353, 1354, 1359, 1362, 1374, 1378, 1379, 1381, 1384, 1385, 1388, 1389, 1392, 1399, 1400, 1402, 1403, 1404, 1411, 1414, 1420, 1421, 1424, 1431, 1436, 1437, 1441, 1444, 1448, 1458, 1460, 1462, 1466, 1475, 1478, 1480, 1487, 1488, 1493, 1495, 1499, 1512, 1514, 1518, 1519, 1526, 1528, 1529, 1530, 1536, 1539, 1545, 1546, 1553, 1559, 1562, 1563, 1571, 1576, 1584, 1585, 1587, 1591, 1595, 1597, 1603, 1620, 1624, 1626, 1630, 1647, 1651, 1656, 1660, 1669, 1673, 1675, 1677, 1683, 1690, 1691, 1692, 1693, 1697, 1698, 1699, 1701, 1711, 1712, 1713, 1714, 1717, 1720, 1721, 1734, 1735]\n"
     ]
    }
   ],
   "source": [
    "t0 = time.time()\n",
    "[nb_indices, nb_vals] = neighbors.to_lists()\n",
    "sub_graph = M.extract_matrix(nb_indices, nb_indices)\n",
    "t1 = time.time()\n",
    "print(\"*** Step 4: elapsed time: %s sec.\" % (t1 - t0))\n",
    "print(\"Number of nodes in target ID's neighborhood:\", len(nb_indices))\n",
    "print(\"Number of edges in the subgraph:\", sub_graph.nvals)\n",
    "print(\"Component members:\", nb_indices)"
   ]
  },
  {
   "cell_type": "markdown",
   "metadata": {},
   "source": [
    "#### Step 5: Perform PageRank on the subgraph\n",
    "\n",
    "Signature:\n",
    "\n",
    "`pr = pagerank(graph)`\n",
    "\n",
    "- `graph`: grb.Matrix representing a graph\n",
    "- `pr`: grb.Vector containing the rank of each node in the graph"
   ]
  },
  {
   "cell_type": "code",
   "execution_count": 6,
   "metadata": {},
   "outputs": [
    {
     "name": "stdout",
     "output_type": "stream",
     "text": [
      "*** Step 5: elapsed time: 0.0052258968353271484 sec.\n",
      "Author with highest degree:  800, rank = 0.013600, (sub_graph index = 196)\n",
      "Author with lowest rank:    1094, rank = 0.000364, (sub_graph index = 270)\n",
      "Author with highest rank:   1169, rank = 0.013663, (sub_graph index = 288)\n"
     ]
    }
   ],
   "source": [
    "t0 = time.time()\n",
    "pr = algorithms.pagerank(sub_graph)\n",
    "t1 = time.time()\n",
    "print(\"*** Step 5: elapsed time: %s sec.\" % (t1 - t0))\n",
    "\n",
    "max_rank = pr.reduce_float(grb.FP32.MAX_MONOID)\n",
    "min_rank = pr.reduce_float(grb.FP32.MIN_MONOID)\n",
    "\n",
    "[pr_indices, pr_ranks] = pr.to_lists()\n",
    "for ix in range(len(pr_indices)):\n",
    "    if (pr_ranks[ix] == max_rank):\n",
    "        print(\"Author with highest rank:   %4d, rank = %f, (sub_graph index = %d)\" %\n",
    "              (nb_indices[pr_indices[ix]], max_rank, pr_indices[ix]))\n",
    "    if (pr_ranks[ix] == min_rank):\n",
    "        print(\"Author with lowest rank:    %4d, rank = %f, (sub_graph index = %d)\" %\n",
    "              (nb_indices[pr_indices[ix]], min_rank, pr_indices[ix]))\n",
    "    if (nb_indices[pr_indices[ix]] == target_ID):\n",
    "        print(\"Author with highest degree: %4d, rank = %f, (sub_graph index = %d)\" %\n",
    "              (target_ID, pr_ranks[ix], pr_indices[ix]))"
   ]
  },
  {
   "cell_type": "code",
   "execution_count": 7,
   "metadata": {
    "scrolled": false
   },
   "outputs": [
    {
     "data": {
      "application/vnd.jupyter.widget-view+json": {
       "model_id": "831f9bf7107b4e4094753be7bfa1ad90",
       "version_major": 2,
       "version_minor": 0
      },
      "text/plain": [
       "Cytoscape(data={'directed': True, 'elements': {'nodes': [{'data': {'id': '0'}}, {'data': {'id': '15'}}, {'data…"
      ]
     },
     "metadata": {},
     "output_type": "display_data"
    }
   ],
   "source": [
    "style=[{'selector': 'node',\n",
    "               'style': {'background-color': 'blue',\n",
    "                         'label': 'data(id)',\n",
    "                         'width': 2,\n",
    "                         'height': 2,\n",
    "                         'shape': 'circle',\n",
    "                         'color': '#000000',\n",
    "                         'font-weight': 400,\n",
    "                         'text-halign': 'right', \n",
    "                         'text-valign': 'bottom',\n",
    "                         'font-size': 4}},\n",
    "              {'selector': 'edge',\n",
    "               'style': {'width': 0.2,\n",
    "                         'opacity': 1,\n",
    "                         #'label': 'data(id)',\n",
    "                         'line-color': 'green',\n",
    "                         'font-size': 4}}]\n",
    "\n",
    "draw_cy(sub_graph, visual_style=style)"
   ]
  },
  {
   "cell_type": "code",
   "execution_count": null,
   "metadata": {},
   "outputs": [],
   "source": []
  }
 ],
 "metadata": {
  "kernelspec": {
   "display_name": "Python 3",
   "language": "python",
   "name": "python3"
  },
  "language_info": {
   "codemirror_mode": {
    "name": "ipython",
    "version": 3
   },
   "file_extension": ".py",
   "mimetype": "text/x-python",
   "name": "python",
   "nbconvert_exporter": "python",
   "pygments_lexer": "ipython3",
   "version": "3.8.6"
  }
 },
 "nbformat": 4,
 "nbformat_minor": 4
}
