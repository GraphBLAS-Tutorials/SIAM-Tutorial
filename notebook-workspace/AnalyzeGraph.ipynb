{
 "cells": [
  {
   "cell_type": "markdown",
   "metadata": {},
   "source": [
    "### Exercise 1: aka AnalyzeGraph"
   ]
  },
  {
   "cell_type": "code",
   "execution_count": 1,
   "metadata": {},
   "outputs": [],
   "source": [
    "import time\n",
    "import pygraphblas as grb\n",
    "import algorithms\n",
    "from pygraphblas.gviz import draw, draw_graph_op as draw_op\n",
    "from pygraphblas.gviz import draw_cy"
   ]
  },
  {
   "cell_type": "markdown",
   "metadata": {},
   "source": [
    "#### Step 1: load a graph from a matrix market file\n",
    "\n",
    "Nodes are authors of papers and abstracts published at IEEE HPEC through 2019.\n",
    "Edges connect coauthors of papers."
   ]
  },
  {
   "cell_type": "code",
   "execution_count": 2,
   "metadata": {},
   "outputs": [
    {
     "name": "stdout",
     "output_type": "stream",
     "text": [
      "*** Step 1: Elapsed time: 0.03556942939758301 sec.\n"
     ]
    }
   ],
   "source": [
    "pathname = './Data/hpec_coauthors.mtx'\n",
    "\n",
    "with open(pathname, 'r') as f:\n",
    "    t0 = time.time()\n",
    "    M = grb.Matrix.from_mm(f, grb.types.UINT64)\n",
    "    t1 = time.time()\n",
    "    print(\"*** Step 1: Elapsed time: %s sec.\" % (t1 - t0))"
   ]
  },
  {
   "cell_type": "markdown",
   "metadata": {},
   "source": [
    "#### Step 2: compute some basic statistics on the graph"
   ]
  },
  {
   "cell_type": "code",
   "execution_count": 3,
   "metadata": {},
   "outputs": [
    {
     "name": "stdout",
     "output_type": "stream",
     "text": [
      "*** Step 2: elapsed time: 0.0012514591217041016 sec.\n",
      "Num nodes:  1747\n",
      "Num edges:  10072\n",
      "Avg degree: 5.76531196336577\n",
      "Max degree: 461\n",
      "Min degree: 1\n",
      "Node with max degree: 800\n"
     ]
    }
   ],
   "source": [
    "t0 = time.time()\n",
    "num_rows = M.nrows\n",
    "num_cols = M.ncols\n",
    "num_vals = M.nvals\n",
    "\n",
    "degree = M.reduce_vector(grb.types.UINT64.PLUS_MONOID)\n",
    "\n",
    "max_degree = degree.reduce_int(grb.types.UINT64.MAX_MONOID)\n",
    "min_degree = degree.reduce_int(grb.types.UINT64.MIN_MONOID)\n",
    "t1 = time.time()\n",
    "\n",
    "print(\"*** Step 2: elapsed time: %s sec.\" % (t1 - t0))\n",
    "\n",
    "print(\"Num nodes: \", num_rows)\n",
    "print(\"Num edges: \", num_vals)\n",
    "print(\"Avg degree:\", float(num_vals)/float(num_rows))\n",
    "print(\"Max degree:\", max_degree)\n",
    "print(\"Min degree:\", min_degree)\n",
    "\n",
    "target_ID = 0\n",
    "for ix in range(num_rows):\n",
    "    if degree.get(ix) == max_degree:\n",
    "        target_ID = ix\n",
    "        print(\"Node with max degree:\", ix)"
   ]
  },
  {
   "cell_type": "markdown",
   "metadata": {},
   "source": [
    "#### Step 3: Run a connected components algorithm and find component with highest degree node\n",
    "\n",
    "Signature:\n",
    "\n",
    "`num_components, cc_assignments = connected_components(graph)`\n",
    "\n",
    "- `graph`: grb.Matrix representing a graph\n",
    "- `num_components`: integer with the number of connected components found\n",
    "- `cc_assignments`: grb.Vector containing the component assignment of each node (from 0 to num_components-1)"
   ]
  },
  {
   "cell_type": "code",
   "execution_count": 4,
   "metadata": {},
   "outputs": [
    {
     "name": "stdout",
     "output_type": "stream",
     "text": [
      "*** Step 3: elapsed time: 0.02256011962890625 sec.\n",
      "Found 246 connected components\n",
      "Node 800 component ID is 0\n"
     ]
    }
   ],
   "source": [
    "t0 = time.time()\n",
    "num_ccs, components = algorithms.connected_components(M)\n",
    "t1 = time.time()\n",
    "print(\"*** Step 3: elapsed time: %s sec.\" % (t1 - t0))\n",
    "\n",
    "print(\"Found\", num_ccs, \"connected components\")\n",
    "target_component_ID = components.get(target_ID)\n",
    "print(\"Node\", target_ID, \"component ID is\", target_component_ID)"
   ]
  },
  {
   "cell_type": "markdown",
   "metadata": {},
   "source": [
    "#### Step 4: Find all the nodes from the target ID's cluster"
   ]
  },
  {
   "cell_type": "code",
   "execution_count": 8,
   "metadata": {},
   "outputs": [
    {
     "name": "stdout",
     "output_type": "stream",
     "text": [
      "*** Step 4: elapsed time: 0.0015413761138916016 sec.\n",
      "Number of nodes in target ID's component: 822\n",
      "Component members: [0, 1, 7, 9, 10, 11, 12, 13, 19, 23, 24, 31, 33, 34, 38, 39, 41, 43, 44, 48, 49, 50, 51, 52, 55, 61, 65, 67, 69, 72, 75, 78, 80, 81, 83, 84, 87, 88, 89, 90, 91, 93, 95, 96, 100, 101, 102, 104, 106, 107, 110, 111, 113, 114, 117, 120, 121, 122, 123, 125, 126, 128, 130, 133, 136, 143, 149, 150, 151, 153, 154, 160, 161, 163, 166, 169, 170, 175, 176, 177, 178, 180, 181, 182, 183, 186, 187, 189, 192, 193, 194, 196, 198, 203, 204, 205, 206, 209, 210, 211, 214, 216, 217, 221, 223, 225, 226, 228, 229, 234, 235, 236, 243, 244, 247, 248, 249, 255, 256, 259, 260, 261, 262, 263, 266, 269, 270, 273, 276, 277, 278, 281, 283, 284, 285, 286, 288, 289, 291, 295, 296, 297, 300, 305, 306, 308, 309, 310, 312, 313, 315, 317, 318, 321, 323, 324, 326, 327, 328, 330, 332, 334, 335, 338, 342, 343, 347, 348, 349, 356, 357, 362, 363, 364, 371, 374, 375, 376, 377, 391, 393, 399, 400, 410, 411, 413, 415, 417, 420, 422, 426, 429, 431, 434, 436, 437, 439, 440, 443, 444, 445, 447, 448, 449, 450, 453, 454, 456, 459, 460, 461, 462, 463, 464, 466, 468, 469, 470, 471, 475, 479, 480, 481, 482, 486, 490, 491, 494, 496, 500, 502, 503, 508, 516, 519, 524, 525, 529, 530, 532, 533, 536, 538, 540, 544, 545, 547, 548, 549, 553, 554, 555, 559, 561, 564, 565, 566, 567, 573, 577, 578, 581, 586, 587, 589, 591, 594, 596, 597, 600, 601, 603, 605, 606, 608, 610, 611, 614, 615, 616, 617, 618, 620, 622, 623, 626, 629, 631, 632, 633, 635, 638, 639, 641, 642, 644, 646, 650, 655, 658, 659, 660, 661, 664, 665, 666, 670, 673, 675, 676, 682, 685, 686, 689, 694, 701, 702, 707, 708, 711, 712, 714, 716, 718, 719, 723, 729, 732, 734, 738, 741, 742, 743, 745, 750, 754, 756, 759, 764, 769, 770, 771, 772, 775, 778, 779, 781, 785, 786, 787, 788, 789, 790, 794, 797, 798, 799, 800, 801, 803, 805, 809, 810, 811, 812, 813, 817, 818, 819, 825, 826, 827, 830, 831, 835, 837, 838, 839, 842, 843, 845, 846, 847, 850, 853, 856, 857, 858, 860, 862, 863, 865, 867, 868, 873, 875, 876, 878, 880, 882, 883, 884, 885, 887, 888, 890, 893, 895, 896, 897, 898, 899, 900, 901, 902, 903, 905, 907, 908, 909, 914, 915, 916, 919, 922, 926, 927, 932, 933, 935, 939, 942, 943, 945, 947, 953, 954, 959, 960, 961, 962, 964, 966, 968, 973, 974, 975, 979, 980, 983, 986, 988, 991, 993, 999, 1005, 1006, 1008, 1010, 1011, 1012, 1016, 1017, 1019, 1020, 1022, 1024, 1026, 1027, 1028, 1029, 1030, 1031, 1032, 1033, 1036, 1037, 1038, 1040, 1042, 1043, 1044, 1045, 1046, 1047, 1048, 1050, 1053, 1054, 1055, 1056, 1057, 1059, 1061, 1062, 1067, 1068, 1069, 1070, 1071, 1073, 1076, 1078, 1080, 1081, 1082, 1083, 1084, 1087, 1088, 1089, 1091, 1092, 1094, 1097, 1099, 1101, 1102, 1103, 1104, 1106, 1107, 1111, 1113, 1114, 1120, 1123, 1124, 1125, 1126, 1127, 1128, 1132, 1134, 1137, 1138, 1141, 1143, 1148, 1151, 1153, 1154, 1156, 1157, 1164, 1167, 1169, 1170, 1175, 1179, 1180, 1181, 1182, 1183, 1185, 1186, 1188, 1192, 1194, 1195, 1196, 1208, 1211, 1214, 1216, 1219, 1220, 1221, 1222, 1223, 1224, 1225, 1226, 1228, 1230, 1231, 1233, 1236, 1237, 1238, 1241, 1242, 1243, 1244, 1245, 1247, 1248, 1250, 1251, 1254, 1255, 1257, 1258, 1259, 1261, 1262, 1263, 1266, 1269, 1270, 1271, 1272, 1273, 1274, 1275, 1279, 1283, 1284, 1285, 1286, 1288, 1290, 1293, 1295, 1299, 1300, 1301, 1302, 1303, 1307, 1308, 1311, 1312, 1314, 1315, 1317, 1318, 1322, 1323, 1324, 1325, 1326, 1328, 1330, 1331, 1334, 1335, 1336, 1337, 1342, 1345, 1349, 1350, 1351, 1353, 1354, 1359, 1362, 1367, 1368, 1372, 1373, 1374, 1377, 1378, 1379, 1381, 1384, 1385, 1388, 1389, 1392, 1398, 1399, 1400, 1401, 1402, 1403, 1404, 1406, 1411, 1413, 1414, 1418, 1420, 1421, 1424, 1425, 1427, 1429, 1431, 1436, 1437, 1438, 1441, 1442, 1444, 1445, 1446, 1448, 1451, 1454, 1457, 1458, 1460, 1462, 1463, 1465, 1466, 1470, 1472, 1474, 1475, 1477, 1478, 1480, 1487, 1488, 1493, 1494, 1495, 1496, 1499, 1503, 1509, 1510, 1512, 1514, 1517, 1518, 1519, 1520, 1525, 1526, 1528, 1529, 1530, 1535, 1536, 1538, 1539, 1542, 1545, 1546, 1553, 1554, 1559, 1560, 1561, 1562, 1563, 1565, 1568, 1571, 1572, 1576, 1577, 1578, 1582, 1584, 1585, 1587, 1589, 1591, 1595, 1596, 1597, 1599, 1600, 1603, 1612, 1617, 1620, 1621, 1622, 1624, 1626, 1630, 1633, 1636, 1639, 1640, 1642, 1643, 1647, 1651, 1656, 1660, 1662, 1664, 1665, 1668, 1669, 1670, 1673, 1674, 1675, 1677, 1680, 1681, 1683, 1684, 1685, 1688, 1689, 1690, 1691, 1692, 1693, 1694, 1695, 1696, 1697, 1698, 1699, 1700, 1701, 1711, 1712, 1713, 1714, 1716, 1717, 1720, 1721, 1723, 1727, 1732, 1733, 1734, 1735, 1738]\n"
     ]
    }
   ],
   "source": [
    "t0 = time.time()\n",
    "cluster_mask = components.select('==', target_component_ID)\n",
    "\n",
    "# Get the number of elements in the mask and extract the indices\n",
    "# cluster_indices = list(cluster_mask.indexes)\n",
    "[cluster_indices, cluster_vals] = cluster_mask.to_lists()\n",
    "component_size = len(cluster_indices)\n",
    "t1 = time.time()\n",
    "print(\"*** Step 4: elapsed time: %s sec.\" % (t1 - t0))\n",
    "print(\"Number of nodes in target ID's component:\", len(cluster_indices))\n",
    "print(\"Component members:\", cluster_indices)"
   ]
  },
  {
   "cell_type": "markdown",
   "metadata": {},
   "source": [
    "#### Step 5: extract and perform PageRank on the target component\n",
    "\n",
    "Signature:\n",
    "\n",
    "`pr = pagerank(graph)`\n",
    "\n",
    "- `graph`: grb.Matrix representing a graph\n",
    "- `pr`: grb.Vector containing the rank of each node in the graph"
   ]
  },
  {
   "cell_type": "code",
   "execution_count": 36,
   "metadata": {},
   "outputs": [
    {
     "name": "stdout",
     "output_type": "stream",
     "text": [
      "*** Step 5: elapsed time: 0.007628679275512695 sec.\n",
      "min rank: 0.00019327869813423604\n",
      "max rank: 0.009313824586570263\n",
      "Author with higest degree: 800, rank = 0.0075648571364581585, (sub_graph index = 357)\n",
      "Author with lowest rank:  1094, (sub_graph index = 513)\n",
      "Author with highest rank: 1424, (sub_graph index = 676)\n"
     ]
    }
   ],
   "source": [
    "t0 = time.time()\n",
    "sub_graph = M.extract_matrix(cluster_indices, cluster_indices)\n",
    "\n",
    "pr = algorithms.pagerank(sub_graph)\n",
    "t1 = time.time()\n",
    "print(\"*** Step 5: elapsed time: %s sec.\" % (t1 - t0))\n",
    "\n",
    "max_rank = pr.reduce_float(grb.types.FP32.MAX_MONOID)\n",
    "min_rank = pr.reduce_float(grb.types.FP32.MIN_MONOID)\n",
    "print(\"min rank:\", min_rank)\n",
    "print(\"max rank:\", max_rank)\n",
    "\n",
    "[pr_indices, pr_ranks] = pr.to_lists()\n",
    "for ix in range(len(pr_indices)):\n",
    "    if (pr_ranks[ix] == max_rank):\n",
    "        print(\"Author with highest rank: %d, (sub_graph index = %d)\" % (cluster_indices[pr_indices[ix]], pr_indices[ix]))\n",
    "    if (pr_ranks[ix] == min_rank):\n",
    "        print(\"Author with lowest rank:  %d, (sub_graph index = %d)\" % (cluster_indices[pr_indices[ix]], pr_indices[ix]))\n",
    "    if (cluster_indices[pr_indices[ix]] == target_ID):\n",
    "        print(\"Author with higest degree: %d, rank = %s, (sub_graph index = %d)\" % (target_ID, pr_ranks[ix], pr_indices[ix]))"
   ]
  },
  {
   "cell_type": "code",
   "execution_count": 29,
   "metadata": {
    "scrolled": false
   },
   "outputs": [
    {
     "data": {
      "application/vnd.jupyter.widget-view+json": {
       "model_id": "257a320a0753405f9ba6dc798d67b6a0",
       "version_major": 2,
       "version_minor": 0
      },
      "text/plain": [
       "Cytoscape(data={'directed': True, 'elements': {'nodes': [{'data': {'id': '0'}}, {'data': {'id': '25'}}, {'data…"
      ]
     },
     "metadata": {},
     "output_type": "display_data"
    }
   ],
   "source": [
    "style=[{'selector': 'node',\n",
    "               'style': {'background-color': 'blue',\n",
    "                         'label': 'data(id)',\n",
    "                         'width': 2,\n",
    "                         'height': 2,\n",
    "                         'shape': 'circle',\n",
    "                         'color': '#000000',\n",
    "                         'font-weight': 400,\n",
    "                         'text-halign': 'right', \n",
    "                         'text-valign': 'bottom',\n",
    "                         'font-size': 4}},\n",
    "              {'selector': 'edge',\n",
    "               'style': {'width': 0.2,\n",
    "                         'opacity': 1,\n",
    "                         #'label': 'data(id)',\n",
    "                         'line-color': 'green',\n",
    "                         'font-size': 4}}]\n",
    "\n",
    "draw_cy(sub_graph, visual_style=style)"
   ]
  },
  {
   "cell_type": "code",
   "execution_count": null,
   "metadata": {},
   "outputs": [],
   "source": []
  }
 ],
 "metadata": {
  "kernelspec": {
   "display_name": "Python 3",
   "language": "python",
   "name": "python3"
  },
  "language_info": {
   "codemirror_mode": {
    "name": "ipython",
    "version": 3
   },
   "file_extension": ".py",
   "mimetype": "text/x-python",
   "name": "python",
   "nbconvert_exporter": "python",
   "pygments_lexer": "ipython3",
   "version": "3.8.6"
  }
 },
 "nbformat": 4,
 "nbformat_minor": 4
}
